{
 "cells": [
  {
   "cell_type": "markdown",
   "metadata": {},
   "source": [
    "# Python Basics 1\n",
    "\n",
    "This notebook contains the following topics:\n",
    "\n",
    "- Installing packages\n",
    "- Importing packages"
   ]
  },
  {
   "cell_type": "markdown",
   "metadata": {},
   "source": [
    "## Python Packages\n",
    "\n",
    "Most of the code that you use in Python is either based on the base Python package (as pre-loaded when Python is installed). All other code is coming from so called Python packages, containing specific **functions** that can be called to execute a specific code.\n",
    "\n",
    "The common packages used for Data Analysis are *pandas* and *numpy*.\n",
    "\n",
    "For plotting of visuals the package that is mostly used is *matplotlib*."
   ]
  },
  {
   "cell_type": "markdown",
   "metadata": {},
   "source": [
    "### Install Packages\n",
    "\n",
    "To use the packages we first need to install them in our environment to make sure that the package is available. There are many ways of installing Python packages, and they differ per type of environment to install them. E.g. A standard way of installing packages is like:\n",
    "\n",
    "To make sure you can run this notebook, please make sure you have followed the steps in [Python Set up](./python_basics.md)"
   ]
  },
  {
   "cell_type": "code",
   "execution_count": 6,
   "metadata": {},
   "outputs": [
    {
     "name": "stdout",
     "output_type": "stream",
     "text": [
      "Collecting pipNote: you may need to restart the kernel to use updated packages.\n",
      "  Using cached pip-24.0-py3-none-any.whl (2.1 MB)\n",
      "Installing collected packages: pip\n",
      "  Attempting uninstall: pip\n",
      "    Found existing installation: pip 20.2.4\n",
      "    Uninstalling pip-20.2.4:\n",
      "      Successfully uninstalled pip-20.2.4\n",
      "Successfully installed pip-24.0\n",
      "\n"
     ]
    }
   ],
   "source": [
    "# Run an update on pip first, as most environments are using older pip versions\n",
    "%pip install --upgrade pip"
   ]
  },
  {
   "cell_type": "code",
   "execution_count": 1,
   "metadata": {},
   "outputs": [
    {
     "name": "stdout",
     "output_type": "stream",
     "text": [
      "Requirement already satisfied: pandas in c:\\users\\dathabor\\.conda\\envs\\notebook\\lib\\site-packages (1.2.4)\n",
      "Requirement already satisfied: python-dateutil>=2.7.3 in c:\\users\\dathabor\\appdata\\roaming\\python\\python38\\site-packages (from pandas) (2.8.2)\n",
      "Requirement already satisfied: pytz>=2017.3 in c:\\users\\dathabor\\.conda\\envs\\notebook\\lib\\site-packages (from pandas) (2021.1)\n",
      "Requirement already satisfied: numpy>=1.16.5 in c:\\users\\dathabor\\.conda\\envs\\notebook\\lib\\site-packages (from pandas) (1.20.2)\n",
      "Requirement already satisfied: six>=1.5 in c:\\users\\dathabor\\appdata\\roaming\\python\\python38\\site-packages (from python-dateutil>=2.7.3->pandas) (1.16.0)\n",
      "Note: you may need to restart the kernel to use updated packages.\n"
     ]
    }
   ],
   "source": [
    "%pip install pandas"
   ]
  },
  {
   "cell_type": "code",
   "execution_count": null,
   "metadata": {},
   "outputs": [],
   "source": [
    "#python.exe -m pip install pandas # type: ignore"
   ]
  },
  {
   "cell_type": "markdown",
   "metadata": {},
   "source": [
    "- 'python.exe' is used to indicate python is used for the packages\n",
    "- '-m' is indicating 'Module'\n",
    "- 'pip' is the pacakge that is used to install packages\n",
    "- 'install' is the function in the pip package to install packages\n",
    "- 'pandas' is an example of a package name"
   ]
  }
 ],
 "metadata": {
  "kernelspec": {
   "display_name": "notebook",
   "language": "python",
   "name": "python3"
  },
  "language_info": {
   "codemirror_mode": {
    "name": "ipython",
    "version": 3
   },
   "file_extension": ".py",
   "mimetype": "text/x-python",
   "name": "python",
   "nbconvert_exporter": "python",
   "pygments_lexer": "ipython3",
   "version": "3.8.5"
  }
 },
 "nbformat": 4,
 "nbformat_minor": 2
}

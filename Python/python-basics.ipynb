{
 "cells": [
  {
   "cell_type": "markdown",
   "metadata": {},
   "source": [
    "# Python Basics 1\n",
    "\n",
    "This notebook contains the following topics:\n",
    "\n",
    "- Installing packages\n",
    "- Importing packages"
   ]
  },
  {
   "cell_type": "markdown",
   "metadata": {},
   "source": [
    "## Python Packages\n",
    "\n",
    "Most of the code that you use in Python is either based on the base Python package (as pre-loaded when Python is installed). All other code is coming from so called Python packages, containing specific **functions** that can be called to execute a specific code.\n",
    "\n",
    "The common packages used for Data Analysis are *pandas* and *numpy*.\n",
    "\n",
    "For plotting of visuals the package that is mostly used is *matplotlib*."
   ]
  },
  {
   "cell_type": "markdown",
   "metadata": {},
   "source": [
    "### Install Packages\n",
    "\n",
    "To use the packages we first need to install them in our environment to make sure that the package is available. There are many ways of installing Python packages, and they differ per type of environment to install them. E.g. A standard way of installing packages is like:\n",
    "\n",
    "To make sure you can run this notebook, please make sure you have followed the steps in [Python Set up](./python_basics.md)"
   ]
  },
  {
   "cell_type": "code",
   "execution_count": null,
   "metadata": {
    "vscode": {
     "languageId": "plaintext"
    }
   },
   "outputs": [],
   "source": [
    "python.exe -m pip install pandas"
   ]
  },
  {
   "cell_type": "markdown",
   "metadata": {},
   "source": [
    "- 'python.exe' is used to indicate python is used for the packages\n",
    "- '-m' is indicating 'Module'\n",
    "- 'pip' is the pacakge that is used to install packages\n",
    "- 'install' is the function in the pip package to install packages\n",
    "- 'pandas' is an example of a package name"
   ]
  }
 ],
 "metadata": {
  "language_info": {
   "name": "python"
  }
 },
 "nbformat": 4,
 "nbformat_minor": 2
}

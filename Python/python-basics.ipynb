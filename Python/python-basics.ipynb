{
    "metadata": {
        "kernelspec": {
            "name": "python3",
            "display_name": "Python 3",
            "language": "python"
        },
        "language_info": {
            "name": "python",
            "version": "3.8.10",
            "mimetype": "text/x-python",
            "codemirror_mode": {
                "name": "ipython",
                "version": 3
            },
            "pygments_lexer": "ipython3",
            "nbconvert_exporter": "python",
            "file_extension": ".py"
        }
    },
    "nbformat_minor": 2,
    "nbformat": 4,
    "cells": [
        {
            "cell_type": "markdown",
            "source": [
                "# Python Basics 1\n",
                "\n",
                "This notebook contains the following topics:\n",
                "\n",
                "- Installing packages\n",
                "- Importing packages"
            ],
            "metadata": {
                "azdata_cell_guid": "f575e0cb-e801-4633-a9c0-5778352a9638"
            }
        },
        {
            "cell_type": "markdown",
            "source": [
                "## Python Packages\n",
                "\n",
                "Most of the code that you use in Python is either based on the base Python package (as pre-loaded when Python is installed). All other code is coming from so called Python packages, containing specific **functions** that can be called to execute a specific code.\n",
                "\n",
                "The common packages used for Data Analysis are *pandas* and *numpy*.\n",
                "\n",
                "For plotting of visuals the package that is mostly used is *matplotlib*."
            ],
            "metadata": {
                "azdata_cell_guid": "eb872650-f296-4e25-b6e0-1c7be1b7c040"
            }
        },
        {
            "cell_type": "markdown",
            "source": [
                "### Install Packages\n",
                "\n",
                "To use the packages we first need to install them in our environment to make sure that the package is available. There are many ways of installing Python packages, and they differ per type of environment to install them. E.g. A standard way of installing packages is like:\n",
                "\n",
                "To make sure you can run this notebook, please make sure you have followed the steps in [Python Set up](./python_basics.md)"
            ],
            "metadata": {
                "azdata_cell_guid": "e5d9d62c-2205-47bc-80d2-0bd5c710352f"
            }
        },
        {
            "cell_type": "code",
            "source": [
                "# Run an update on pip first, as most environments are using older pip versions\n",
                "%pip install --upgrade pip"
            ],
            "metadata": {
                "azdata_cell_guid": "f7ca5368-6b0d-499b-b80e-670c77979410",
                "language": "python"
            },
            "outputs": [
                {
                    "output_type": "stream",
                    "name": "stdout",
                    "text": "Collecting pipNote: you may need to restart the kernel to use updated packages.\n  Using cached pip-24.0-py3-none-any.whl (2.1 MB)\nInstalling collected packages: pip\n  Attempting uninstall: pip\n    Found existing installation: pip 20.2.4\n    Uninstalling pip-20.2.4:\n      Successfully uninstalled pip-20.2.4\nSuccessfully installed pip-24.0\n\n"
                }
            ],
            "execution_count": 6
        },
        {
            "cell_type": "code",
            "source": [
                "%pip install pandas"
            ],
            "metadata": {
                "azdata_cell_guid": "3435626a-7af5-4991-bacb-d5bd6854c85c",
                "language": "python"
            },
            "outputs": [
                {
                    "output_type": "stream",
                    "name": "stdout",
                    "text": "Requirement already satisfied: pandas in c:\\users\\dathabor\\.conda\\envs\\notebook\\lib\\site-packages (1.2.4)\nRequirement already satisfied: python-dateutil>=2.7.3 in c:\\users\\dathabor\\appdata\\roaming\\python\\python38\\site-packages (from pandas) (2.8.2)\nRequirement already satisfied: pytz>=2017.3 in c:\\users\\dathabor\\.conda\\envs\\notebook\\lib\\site-packages (from pandas) (2021.1)\nRequirement already satisfied: numpy>=1.16.5 in c:\\users\\dathabor\\.conda\\envs\\notebook\\lib\\site-packages (from pandas) (1.20.2)\nRequirement already satisfied: six>=1.5 in c:\\users\\dathabor\\appdata\\roaming\\python\\python38\\site-packages (from python-dateutil>=2.7.3->pandas) (1.16.0)\nNote: you may need to restart the kernel to use updated packages.\n"
                }
            ],
            "execution_count": 1
        },
        {
            "cell_type": "code",
            "source": [
                "#python.exe -m pip install pandas # type: ignore"
            ],
            "metadata": {
                "azdata_cell_guid": "b883f724-be0d-42c2-85b5-e264132df977",
                "language": "python"
            },
            "outputs": [],
            "execution_count": null
        },
        {
            "cell_type": "markdown",
            "source": [
                "- 'python.exe' is used to indicate python is used for the packages\n",
                "- '-m' is indicating 'Module'\n",
                "- 'pip' is the pacakge that is used to install packages\n",
                "- 'install' is the function in the pip package to install packages\n",
                "- 'pandas' is an example of a package name"
            ],
            "metadata": {
                "azdata_cell_guid": "d7765312-701a-42a7-8686-b4e96ca6df6a"
            }
        }
    ]
}